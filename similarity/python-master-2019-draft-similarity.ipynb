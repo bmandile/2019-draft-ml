{
 "cells": [
  {
   "cell_type": "code",
   "execution_count": null,
   "metadata": {},
   "outputs": [],
   "source": [
    "import pandas as pd\n",
    "from scipy import spatial\n",
    "from operator import itemgetter\n",
    "from sklearn.preprocessing import MinMaxScaler\n",
    "import matplotlib.pyplot as plt\n",
    "import numpy as np"
   ]
  },
  {
   "cell_type": "code",
   "execution_count": null,
   "metadata": {},
   "outputs": [],
   "source": [
    "df_historical = pd.read_csv('historical-drafts.csv')\n",
    "df_current = pd.read_csv('current-draft.csv')"
   ]
  },
  {
   "cell_type": "code",
   "execution_count": null,
   "metadata": {},
   "outputs": [],
   "source": [
    "df_historical.head()"
   ]
  },
  {
   "cell_type": "code",
   "execution_count": null,
   "metadata": {},
   "outputs": [],
   "source": [
    "df_historical.columns.values"
   ]
  },
  {
   "cell_type": "code",
   "execution_count": null,
   "metadata": {},
   "outputs": [],
   "source": [
    "def df_prep(df, features, counting_features):\n",
    "    \n",
    "    df = df.dropna(subset = features)\n",
    "    \n",
    "    df[counting_features] * 40 / df['MP']\n",
    "    \n",
    "    names = df['Player']\n",
    "    df = df[features].dropna(subset = features)\n",
    "    \n",
    "    scaler = MinMaxScaler()\n",
    "    \n",
    "    df_scaled = pd.DataFrame(scaler.fit_transform(df), columns = df.columns)\n",
    "    return df_scaled, names"
   ]
  },
  {
   "cell_type": "code",
   "execution_count": null,
   "metadata": {},
   "outputs": [],
   "source": [
    "features = ['G', 'PTS', 'AST', 'TRB', 'STL', 'BLK', 'TOV', 'PF', 'TS%', '3PAr', 'FTr', 'WS']\n",
    "counting_features = ['PTS', 'AST', 'TRB', 'STL', 'BLK', 'TOV', 'PF']\n",
    "\n",
    "df_historical_sim, historical_names = df_prep(df_historical, features, counting_features)\n",
    "df_current_sim, current_names = df_prep(df_current, features, counting_features)"
   ]
  },
  {
   "cell_type": "code",
   "execution_count": null,
   "metadata": {},
   "outputs": [],
   "source": [
    "def list_sort(list_1, reverse_bool):\n",
    "    \n",
    "    names_list = [[i, j] for i, j in zip(list_1, historical_names)]\n",
    "    sorted_list = sorted(names_list, key = itemgetter(0), reverse = reverse_bool)\n",
    "    \n",
    "    return sorted_list"
   ]
  },
  {
   "cell_type": "code",
   "execution_count": null,
   "metadata": {},
   "outputs": [],
   "source": [
    "def similarity(name):\n",
    "    \n",
    "    x = list(current_names).index(name)\n",
    "    test_stat = df_current_sim.iloc[[x]]\n",
    "    \n",
    "    cos = []\n",
    "    euclid = []\n",
    "\n",
    "    for i in df_historical_sim.values:\n",
    "\n",
    "        cos.append(1 - spatial.distance.cosine(test_stat, i))\n",
    "        euclid.append(spatial.distance.euclidean(test_stat, i))\n",
    "\n",
    "        cos_list = list_sort(cos, True)\n",
    "        euclid_list = list_sort(euclid, False)\n",
    "        \n",
    "    print(name + \"\\n\")\n",
    "    print(\"Cosine:\")\n",
    "    for i in cos_list[0:5]:\n",
    "        print(i[0], i[1])\n",
    "        \n",
    "    print(\"\\nEuclid:\")\n",
    "    for i in euclid_list[0:5]:\n",
    "        print(i[0], i[1])\n",
    "        \n",
    "    print(\"-\" * 20)"
   ]
  },
  {
   "cell_type": "code",
   "execution_count": null,
   "metadata": {},
   "outputs": [],
   "source": [
    "for i in current_names:\n",
    "    similarity(i)"
   ]
  },
  {
   "cell_type": "code",
   "execution_count": null,
   "metadata": {},
   "outputs": [],
   "source": [
    "def similarity_plot(name):\n",
    "    \n",
    "    x = list(current_names).index(name)\n",
    "    test_stat = df_current_sim.iloc[[x]]\n",
    "    \n",
    "    cos = []\n",
    "    euclid = []\n",
    "\n",
    "    for i in df_historical_sim.values:\n",
    "\n",
    "        cos.append(1 - spatial.distance.cosine(test_stat, i))\n",
    "        euclid.append(spatial.distance.euclidean(test_stat, i))\n",
    "\n",
    "        cos_list = list_sort(cos, True)\n",
    "        euclid_list = list_sort(euclid, False)\n",
    "        \n",
    "    plt.style.use('fivethirtyeight')\n",
    "    fig, ax = plt.subplots()\n",
    "    \n",
    "    y_cos = [i[0] for i in cos_list[0:5]]\n",
    "    y_euclid = [i[0] for i in euclid_list[0:5]]\n",
    "    x = np.arange(len(y_cos))\n",
    "    \n",
    "    ax.bar(x - .22, y_cos, width = .4, color = 'C0', edgecolor = 'white', linewidth = 1.5, label = 'Cosine')\n",
    "    ax.bar(x + .22, y_euclid, width = .4, color = 'C1', edgecolor = 'white', linewidth = 1.5, label = 'Euclid')\n",
    "    \n",
    "    ax.xaxis.set_visible(False)\n",
    "    \n",
    "    labels = [i[1] for i in cos_list[0:5]]\n",
    "    labels2 = [i[1] for i in euclid_list[0:5]]\n",
    "    \n",
    "    labels += labels2\n",
    "\n",
    "    rects = ax.patches\n",
    "    for rect, label in zip(rects, labels):\n",
    "        ax.text(rect.get_x() + rect.get_width() / 1.75, .04, label,\n",
    "        ha='center', va='bottom', rotation = 'vertical', color = 'black')\n",
    "        \n",
    "    fig.suptitle(\"%s similarity\" % name, size = 18, weight = 'bold', y = 1.005)\n",
    "    ax.set_title('Most similar players on left, least similar on right', size = 14, fontname = 'Rockwell')\n",
    "    \n",
    "    ax.legend(loc = 'best', ncol = 2, prop={'size': 11, \"family\": \"Rockwell\"})\n",
    "    \n",
    "    fig.text(x = 0, y = 0.01,\n",
    "        s = '____________________________________________________________',\n",
    "        fontsize = 14, color = 'grey', horizontalalignment='left')\n",
    "\n",
    "    fig.text(x = 0, y = -.05,\n",
    "        s = 'https://dribbleanalytics.blog                     ',\n",
    "        fontsize = 14, fontname = 'Rockwell', color = 'grey', horizontalalignment='left')\n",
    "    \n",
    "    fig.savefig('%s.png' % name.replace(' ', '-').lower(), dpi = 400, bbox_inches = 'tight')"
   ]
  },
  {
   "cell_type": "code",
   "execution_count": null,
   "metadata": {
    "scrolled": false
   },
   "outputs": [],
   "source": [
    "for i in current_names:\n",
    "    similarity_plot(i)"
   ]
  }
 ],
 "metadata": {
  "kernelspec": {
   "display_name": "Python 3",
   "language": "python",
   "name": "python3"
  },
  "language_info": {
   "codemirror_mode": {
    "name": "ipython",
    "version": 3
   },
   "file_extension": ".py",
   "mimetype": "text/x-python",
   "name": "python",
   "nbconvert_exporter": "python",
   "pygments_lexer": "ipython3",
   "version": "3.6.4"
  }
 },
 "nbformat": 4,
 "nbformat_minor": 2
}
