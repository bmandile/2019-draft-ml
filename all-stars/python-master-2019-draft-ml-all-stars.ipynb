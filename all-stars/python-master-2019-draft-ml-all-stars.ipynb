{
 "cells": [
  {
   "cell_type": "code",
   "execution_count": null,
   "metadata": {},
   "outputs": [],
   "source": [
    "%matplotlib inline\n",
    "\n",
    "import pandas as pd\n",
    "import numpy as np\n",
    "import matplotlib.pyplot as plt\n",
    "import seaborn as sns\n",
    "from sklearn.model_selection import train_test_split\n",
    "from sklearn.linear_model import LogisticRegression\n",
    "from sklearn.svm import SVC\n",
    "from sklearn.ensemble import RandomForestClassifier\n",
    "import sklearn.metrics as metrics\n",
    "from operator import itemgetter\n",
    "from sklearn.model_selection import cross_val_score\n",
    "from sklearn.model_selection import GridSearchCV\n",
    "from sklearn.metrics import precision_recall_curve\n",
    "from sklearn.metrics import average_precision_score\n",
    "from sklearn.dummy import DummyClassifier\n",
    "from sklearn.ensemble import GradientBoostingClassifier\n",
    "from sklearn.model_selection import StratifiedKFold\n",
    "import shap"
   ]
  },
  {
   "cell_type": "code",
   "execution_count": null,
   "metadata": {},
   "outputs": [],
   "source": [
    "df_historical = pd.read_csv('historical-draft-stats.csv')\n",
    "df_current = pd.read_csv('draft-predict.csv')"
   ]
  },
  {
   "cell_type": "code",
   "execution_count": null,
   "metadata": {},
   "outputs": [],
   "source": [
    "df_historical.head()"
   ]
  },
  {
   "cell_type": "code",
   "execution_count": null,
   "metadata": {},
   "outputs": [],
   "source": [
    "df_historical.columns"
   ]
  },
  {
   "cell_type": "markdown",
   "metadata": {},
   "source": [
    "# Visualizing All-NBA selections"
   ]
  },
  {
   "cell_type": "code",
   "execution_count": null,
   "metadata": {},
   "outputs": [],
   "source": [
    "all_star = df_historical.loc[df_historical['All-Star'] == 1]\n",
    "non_all_star = df_historical.loc[df_historical['All-Star'] == 0]"
   ]
  },
  {
   "cell_type": "code",
   "execution_count": null,
   "metadata": {},
   "outputs": [],
   "source": [
    "def boxplot(stat, title_stat, file_name):\n",
    "    \n",
    "    plt.style.use('fivethirtyeight')\n",
    "\n",
    "    fig, ax = plt.subplots()\n",
    "    \n",
    "    box = [all_star[stat].dropna(), non_all_star[stat].dropna()]\n",
    "\n",
    "    bp = ax.boxplot(box, patch_artist = True)\n",
    "\n",
    "    for box in bp['boxes']:\n",
    "        box.set(color = 'black', linewidth = 2)\n",
    "        box.set(facecolor = 'C0')\n",
    "\n",
    "    for whisker in bp['whiskers']:\n",
    "        whisker.set(color='black', linewidth=2)\n",
    "\n",
    "    for cap in bp['caps']:\n",
    "        cap.set(color='black', linewidth=2)\n",
    "\n",
    "    for median in bp['medians']:\n",
    "        median.set(color='yellow', linewidth=2.5)\n",
    "\n",
    "    ax.set_xticklabels(['All-Stars', 'Not All-Stars'])\n",
    "\n",
    "    fig.suptitle(\"%s boxplot for top-10 picks\" % title_stat, weight = 'bold', size = 18)\n",
    "\n",
    "    fig.text(x = 0.02, y = 0,\n",
    "        s = '____________________________________________________________',\n",
    "        fontsize = 14, color = 'grey', horizontalalignment='left')\n",
    "\n",
    "    fig.text(x = 0.02, y = -.06,\n",
    "        s = 'https://dribbleanalytics.blog                     ',\n",
    "        fontsize = 14, fontname = 'Rockwell', color = 'grey', horizontalalignment='left')\n",
    "\n",
    "    fig.savefig('%s.png' % file_name, dpi = 400, bbox_inches = 'tight')"
   ]
  },
  {
   "cell_type": "code",
   "execution_count": null,
   "metadata": {},
   "outputs": [],
   "source": [
    "boxplot('PTS', 'PPG', 'ppg')"
   ]
  },
  {
   "cell_type": "code",
   "execution_count": null,
   "metadata": {},
   "outputs": [],
   "source": [
    "boxplot('TRB', 'REB', 'trb')"
   ]
  },
  {
   "cell_type": "code",
   "execution_count": null,
   "metadata": {},
   "outputs": [],
   "source": [
    "boxplot('AST', 'AST', 'ast')"
   ]
  },
  {
   "cell_type": "code",
   "execution_count": null,
   "metadata": {},
   "outputs": [],
   "source": [
    "boxplot('SOS', 'SOS', 'sos')"
   ]
  },
  {
   "cell_type": "code",
   "execution_count": null,
   "metadata": {},
   "outputs": [],
   "source": [
    "boxplot('Pick', 'Pick', 'pick')"
   ]
  },
  {
   "cell_type": "markdown",
   "metadata": {},
   "source": [
    "# Create models"
   ]
  },
  {
   "cell_type": "code",
   "execution_count": null,
   "metadata": {},
   "outputs": [],
   "source": [
    "features = ['Pick', 'PTS', 'TRB', 'AST', 'STL', 'BLK', 'TS%', '3PAr', 'FTr', 'SOS']\n",
    "\n",
    "output = ['All-Star']\n",
    "\n",
    "df_historical = df_historical.dropna(subset=features)\n",
    "\n",
    "train, test = train_test_split(df_historical, test_size = 0.25, random_state = 0)\n",
    "\n",
    "xtrain = train[features]\n",
    "ytrain = train[output]\n",
    "\n",
    "xtest = test[features]\n",
    "ytest = test[output]\n",
    "\n",
    "print(\"Training set size: %.0f\" % len(xtrain))\n",
    "print(\"Testing set size: %.0f\" % len(xtest))"
   ]
  },
  {
   "cell_type": "code",
   "execution_count": null,
   "metadata": {},
   "outputs": [],
   "source": [
    "print(\"All-Star percentage in testing set: %.2f\" % (ytrain[ytrain['All-Star'] == 1].count() / ytrain['All-Star'].count()))\n",
    "print(\"All-Star percentage in testing set: %.2f\" % (ytest[ytest['All-Star'] == 1].count() / ytest['All-Star'].count()))"
   ]
  },
  {
   "cell_type": "code",
   "execution_count": null,
   "metadata": {},
   "outputs": [],
   "source": [
    "def scores(model):\n",
    "    \n",
    "    model.fit(xtrain, ytrain.values.ravel())\n",
    "    y_pred = model.predict(xtest)\n",
    "    \n",
    "    print(\"Accuracy score: %.3f\" % metrics.accuracy_score(ytest, y_pred))\n",
    "    print(\"Recall: %.3f\" % metrics.recall_score(ytest, y_pred))\n",
    "    print(\"Precision: %.3f\" % metrics.precision_score(ytest, y_pred))\n",
    "    print(\"F1: %.3f\" % metrics.f1_score(ytest, y_pred))\n",
    "    \n",
    "    proba = model.predict_proba(xtest)\n",
    "    print(\"Log loss: %.3f\" % metrics.log_loss(ytest, proba))\n",
    "\n",
    "    pos_prob = proba[:, 1]\n",
    "    print(\"Area under ROC curve: %.3f\" % metrics.roc_auc_score(ytest, pos_prob))\n",
    "    \n",
    "    cv = cross_val_score(model, xtest, ytest.values.ravel(), cv = 3, scoring = 'accuracy')\n",
    "    print(\"Accuracy (cross validation score): %0.3f (+/- %0.3f)\" % (cv.mean(), cv.std() * 2))\n",
    "    \n",
    "    return y_pred"
   ]
  },
  {
   "cell_type": "code",
   "execution_count": null,
   "metadata": {},
   "outputs": [],
   "source": [
    "cv = StratifiedKFold(n_splits = 3, random_state = 0)\n",
    "\n",
    "def grid_search(model, grid):\n",
    "    clf = GridSearchCV(model, grid, cv = cv, n_jobs = -1, verbose = 2, iid = False)\n",
    "    scores(clf)\n",
    "    \n",
    "    print(clf.best_params_)"
   ]
  },
  {
   "cell_type": "code",
   "execution_count": null,
   "metadata": {},
   "outputs": [],
   "source": [
    "log = LogisticRegression(solver = 'liblinear')\n",
    "\n",
    "y_log = scores(log)"
   ]
  },
  {
   "cell_type": "code",
   "execution_count": null,
   "metadata": {},
   "outputs": [],
   "source": [
    "C = [int(x) for x in np.linspace(start = 1, stop = 50, num = 20)]\n",
    "penalty = ['l1', 'l2']\n",
    "solver = ['liblinear']\n",
    "\n",
    "grid = {'C': C,\n",
    "        'penalty': penalty,\n",
    "        'solver': solver}"
   ]
  },
  {
   "cell_type": "code",
   "execution_count": null,
   "metadata": {},
   "outputs": [],
   "source": [
    "grid_search(log, grid)"
   ]
  },
  {
   "cell_type": "code",
   "execution_count": null,
   "metadata": {},
   "outputs": [],
   "source": [
    "svc = SVC(kernel = 'rbf', gamma = 1e-2, C = 10, probability = True)\n",
    "\n",
    "y_svc = scores(svc)"
   ]
  },
  {
   "cell_type": "code",
   "execution_count": null,
   "metadata": {},
   "outputs": [],
   "source": [
    "gamma = [x for x in np.logspace(-4, 1, num = 6, endpoint=10)]\n",
    "C = [x for x in np.logspace(-2, 2, num = 5, endpoint=100)]\n",
    "kernel = ['rbf', 'sigmoid', 'linear']\n",
    "probability = [True]\n",
    "\n",
    "grid = {'gamma': gamma,\n",
    "        'C': C,\n",
    "        'kernel': kernel,\n",
    "        'probability': probability}"
   ]
  },
  {
   "cell_type": "code",
   "execution_count": null,
   "metadata": {},
   "outputs": [],
   "source": [
    "grid_search(svc, grid)"
   ]
  },
  {
   "cell_type": "code",
   "execution_count": null,
   "metadata": {},
   "outputs": [],
   "source": [
    "svc = SVC(C = .1, gamma = .0001, kernel = 'linear', probability = True)\n",
    "\n",
    "y_svc = scores(svc)"
   ]
  },
  {
   "cell_type": "code",
   "execution_count": null,
   "metadata": {},
   "outputs": [],
   "source": [
    "rf = RandomForestClassifier(random_state = 99, n_estimators = 50)\n",
    "\n",
    "y_rf = scores(rf)"
   ]
  },
  {
   "cell_type": "code",
   "execution_count": null,
   "metadata": {},
   "outputs": [],
   "source": [
    "max_depth = [int(x) for x in np.linspace(start = 10, stop = 100, num = 10)]\n",
    "max_features = ['auto', 'sqrt']\n",
    "n_estimators = [int(x) for x in np.linspace(start = 25, stop = 250, num = 10)]\n",
    "random_state = [0]\n",
    "\n",
    "grid = {'max_depth': max_depth,\n",
    "        'max_features': max_features,\n",
    "        'n_estimators': n_estimators,\n",
    "        'random_state': random_state}"
   ]
  },
  {
   "cell_type": "code",
   "execution_count": null,
   "metadata": {},
   "outputs": [],
   "source": [
    "grid_search(rf, grid)"
   ]
  },
  {
   "cell_type": "code",
   "execution_count": null,
   "metadata": {},
   "outputs": [],
   "source": [
    "rf = RandomForestClassifier(max_depth = 10, max_features = 'auto', n_estimators = 125, random_state = 0)\n",
    "\n",
    "y_rf = scores(rf)"
   ]
  },
  {
   "cell_type": "markdown",
   "metadata": {},
   "source": [
    "These hyerparameters for the above random forest and the final gradient booster were found using grid search cv with no random_state on the stratified k-fold. So, we use those hyperparameters that the grid search found. However, to keep results consistent, I assigned a random_state to the k-fold, meaning that the grid search will technically not find the previous hyperparameters in this instance. However, the hyperparameters were achieved via a previous grid search."
   ]
  },
  {
   "cell_type": "code",
   "execution_count": null,
   "metadata": {},
   "outputs": [],
   "source": [
    "gbc = GradientBoostingClassifier()\n",
    "\n",
    "y_gbc = scores(gbc)"
   ]
  },
  {
   "cell_type": "code",
   "execution_count": null,
   "metadata": {},
   "outputs": [],
   "source": [
    "loss = ['deviance']\n",
    "max_depth = [int(x) for x in np.linspace(start = 10, stop = 100, num = 10)]\n",
    "max_features = ['auto', 'sqrt']\n",
    "n_estimators = [int(x) for x in np.linspace(start = 25, stop = 250, num = 10)]\n",
    "random_state = [66]\n",
    "\n",
    "grid = {'loss': loss,\n",
    "        'max_depth': max_depth,\n",
    "        'max_features': max_features,\n",
    "        'n_estimators': n_estimators,\n",
    "        'random_state': random_state}"
   ]
  },
  {
   "cell_type": "code",
   "execution_count": null,
   "metadata": {},
   "outputs": [],
   "source": [
    "grid_search(gbc, grid)"
   ]
  },
  {
   "cell_type": "code",
   "execution_count": null,
   "metadata": {},
   "outputs": [],
   "source": [
    "gbc = GradientBoostingClassifier(loss = 'deviance', max_depth = 30, max_features = 'sqrt', n_estimators = 200, random_state = 66)\n",
    "\n",
    "y_gbc = scores(gbc)"
   ]
  },
  {
   "cell_type": "markdown",
   "metadata": {},
   "source": [
    "# Dummy Classifier"
   ]
  },
  {
   "cell_type": "code",
   "execution_count": null,
   "metadata": {},
   "outputs": [],
   "source": [
    "dummy = DummyClassifier(strategy=\"stratified\", random_state = 99)\n",
    "y_dummy = scores(dummy)"
   ]
  },
  {
   "cell_type": "markdown",
   "metadata": {},
   "source": [
    "# Create confusion matrices"
   ]
  },
  {
   "cell_type": "code",
   "execution_count": null,
   "metadata": {},
   "outputs": [],
   "source": [
    "def confusion_matrix(y_pred, model_name):\n",
    "    cm = metrics.confusion_matrix(ytest, y_pred)\n",
    "\n",
    "    plt.style.use(\"fivethirtyeight\")\n",
    "    z, ax = plt.subplots()\n",
    "\n",
    "    sns.heatmap(cm, annot=True, ax = ax, linewidth = 2, fmt='g')\n",
    "\n",
    "    ax.set_xlabel(\"Predicted\")\n",
    "    ax.set_ylabel(\"Actual\")\n",
    "\n",
    "    z.suptitle(\"%s Confusion Matrix\" % model_name.upper(), weight = 'bold', size = 18, x = .45)\n",
    "    \n",
    "    z.text(x = 0, y = -0.08,\n",
    "        s = '__________________________________________________________',\n",
    "        fontsize = 14, color = 'grey', horizontalalignment='left')\n",
    "\n",
    "    z.text(x = 0, y = -.14,\n",
    "        s = 'dribbleanalytics.blogspot.com                     ',\n",
    "        fontsize = 14, fontname = 'Rockwell', color = 'grey', horizontalalignment='left')\n",
    "\n",
    "    z.savefig('%s_cm.png' % model_name, dpi = 400, bbox_inches = 'tight')"
   ]
  },
  {
   "cell_type": "code",
   "execution_count": null,
   "metadata": {},
   "outputs": [],
   "source": [
    "confusion_matrix(y_log, 'log')"
   ]
  },
  {
   "cell_type": "code",
   "execution_count": null,
   "metadata": {},
   "outputs": [],
   "source": [
    "confusion_matrix(y_svc, 'svc')"
   ]
  },
  {
   "cell_type": "code",
   "execution_count": null,
   "metadata": {},
   "outputs": [],
   "source": [
    "confusion_matrix(y_rf, 'rf')"
   ]
  },
  {
   "cell_type": "code",
   "execution_count": null,
   "metadata": {},
   "outputs": [],
   "source": [
    "confusion_matrix(y_gbc, 'gbc')"
   ]
  },
  {
   "cell_type": "markdown",
   "metadata": {},
   "source": [
    "# Create ROC curve"
   ]
  },
  {
   "cell_type": "code",
   "execution_count": null,
   "metadata": {},
   "outputs": [],
   "source": [
    "def roc_curve(model):\n",
    "\n",
    "    proba = model.predict_proba(xtest)\n",
    "    pos_prob = proba[:, 1]\n",
    "    fpr, tpr, threshold = metrics.roc_curve(ytest, pos_prob)\n",
    "    \n",
    "    return (fpr, tpr, pos_prob)"
   ]
  },
  {
   "cell_type": "code",
   "execution_count": null,
   "metadata": {},
   "outputs": [],
   "source": [
    "plt.style.use('fivethirtyeight')\n",
    "\n",
    "roc, ((ax1, ax2), (ax3, ax4)) = plt.subplots(2, 2, sharey = True, sharex = True)\n",
    "\n",
    "fpr, tpr, pos_prob = roc_curve(log)\n",
    "ax1.plot(fpr, tpr)\n",
    "ax1.plot([0, 1], [0, 1], linestyle = '--')\n",
    "ax1.set_title(\"LOG: %.2f\" % metrics.roc_auc_score(ytest, pos_prob), size = 15, x = .485, ha = 'center')\n",
    "\n",
    "fpr, tpr, pos_prob = roc_curve(svc)\n",
    "ax2.plot(fpr, tpr)\n",
    "ax2.plot([0, 1], [0, 1], linestyle = '--')\n",
    "ax2.set_title(\"SVC: %.2f\" % metrics.roc_auc_score(ytest, pos_prob), size = 15, x = .485, ha = 'center')\n",
    "\n",
    "fpr, tpr, pos_prob = roc_curve(rf)\n",
    "ax3.plot(fpr, tpr)\n",
    "ax3.plot([0, 1], [0, 1], linestyle = '--')\n",
    "ax3.set_title(\"RF: %.2f\" % metrics.roc_auc_score(ytest, pos_prob), size = 15, x = .485, ha = 'center')\n",
    "\n",
    "fpr, tpr, pos_prob = roc_curve(gbc)\n",
    "ax4.plot(fpr, tpr)\n",
    "ax4.plot([0, 1], [0, 1], linestyle = '--')\n",
    "ax4.set_title(\"GBC: %.2f\" % metrics.roc_auc_score(ytest, pos_prob), size = 15, x = .485, ha = 'center')\n",
    "\n",
    "roc.text(-0.03, 0.5, \"True positive rate\", va='center', rotation='vertical', size = 18)\n",
    "roc.text(0.5, -0.045, \"False positive rate\", ha = 'center', size = 18)\n",
    "\n",
    "roc.suptitle(\"Model ROC Curves\", y = 1.045, weight = 'bold', size = 18)\n",
    "\n",
    "roc.text(x = -0.03, y = -0.08,\n",
    "        s = '______________________________________________________________',\n",
    "        fontsize = 14, color = 'grey', horizontalalignment='left')\n",
    "\n",
    "roc.text(x = -0.03, y = -.14,\n",
    "    s = 'https://dribbleanalytics.blog                     ',\n",
    "    fontsize = 14, fontname = 'Rockwell', color = 'grey', horizontalalignment='left')\n",
    "\n",
    "roc.savefig('roc.png', dpi = 400, bbox_inches = 'tight')"
   ]
  },
  {
   "cell_type": "markdown",
   "metadata": {},
   "source": [
    "# Feature importance/coefficients"
   ]
  },
  {
   "cell_type": "code",
   "execution_count": null,
   "metadata": {},
   "outputs": [],
   "source": [
    "plt.style.use('fivethirtyeight')\n",
    "\n",
    "coef, ax = plt.subplots()\n",
    "\n",
    "x1 = log.coef_[0]\n",
    "x2 = svc.coef_[0]\n",
    "y = np.arange(len(x1))\n",
    "\n",
    "ax.scatter(x1, y, label = 'LOG')\n",
    "ax.scatter(x2, y, label = 'SVC')\n",
    "ax.axvline(x = 0, c = 'black', alpha = .3)\n",
    "\n",
    "ticks = features\n",
    "ax.set_yticks(np.arange(len(x1)))\n",
    "ax.set_yticklabels(ticks)\n",
    "\n",
    "ax.set_xlabel('Coefficient')\n",
    "\n",
    "coef.suptitle(\"Model Coefficients\", y = .95, weight = 'bold', size = 18)\n",
    "ax.legend(loc = 'best')\n",
    "\n",
    "coef.text(x = 0, y = -0.08,\n",
    "        s = '___________________________________________________________',\n",
    "        fontsize = 14, color = 'grey', horizontalalignment='left')\n",
    "\n",
    "coef.text(x = 0, y = -.14,\n",
    "    s = 'https://dribbleanalytics.blog                     ',\n",
    "    fontsize = 14, fontname = 'Rockwell', color = 'grey', horizontalalignment='left')\n",
    "\n",
    "coef.savefig('coef.png', dpi = 400, bbox_inches = 'tight')"
   ]
  },
  {
   "cell_type": "code",
   "execution_count": null,
   "metadata": {},
   "outputs": [],
   "source": [
    "plt.style.use('fivethirtyeight')\n",
    "\n",
    "fi, ax = plt.subplots()\n",
    "\n",
    "x1 = rf.feature_importances_\n",
    "x2 = gbc.feature_importances_\n",
    "y = np.arange(len(x1))\n",
    "\n",
    "ax.scatter(x1, y, label = 'RF')\n",
    "ax.scatter(x2, y, label = 'GBC')\n",
    "ax.axvline(x = 0.1, c = 'C2', alpha = .7)\n",
    "\n",
    "ticks = features\n",
    "ax.set_yticks(np.arange(len(x1)))\n",
    "ax.set_yticklabels(ticks)\n",
    "\n",
    "ax.set_xlabel('Feature Importance')\n",
    "\n",
    "fi.suptitle(\"Model Feature Importance\", y = .95, weight = 'bold', size = 18)\n",
    "ax.legend(loc = 'best')\n",
    "\n",
    "fi.text(x = .4, y = .6,\n",
    "        s = 'Average\\nfeature importance',\n",
    "        fontsize = 14, color = 'C2', rotation = 90, horizontalalignment = 'center')\n",
    "\n",
    "fi.text(x = 0, y = -0.08,\n",
    "        s = '___________________________________________________________',\n",
    "        fontsize = 14, color = 'grey', horizontalalignment='left')\n",
    "\n",
    "fi.text(x = 0, y = -.14,\n",
    "    s = 'https://dribbleanalytics.blog                     ',\n",
    "    fontsize = 14, fontname = 'Rockwell', color = 'grey', horizontalalignment='left')\n",
    "\n",
    "fi.savefig('fi.png', dpi = 400, bbox_inches = 'tight')"
   ]
  },
  {
   "cell_type": "markdown",
   "metadata": {},
   "source": [
    "# SHAP and model explanations"
   ]
  },
  {
   "cell_type": "code",
   "execution_count": null,
   "metadata": {},
   "outputs": [],
   "source": [
    "shap.initjs()\n",
    "plt.rcParams.update(plt.rcParamsDefault)\n",
    "plt.style.use('fivethirtyeight')"
   ]
  },
  {
   "cell_type": "code",
   "execution_count": null,
   "metadata": {},
   "outputs": [],
   "source": [
    "k_sample = shap.kmeans(xtrain, 5)\n",
    "# use shap.kmeans to allow KernelExplainer to run on fewer data points - recommended for speed\n",
    "\n",
    "explainer = shap.KernelExplainer(log.predict, k_sample)\n",
    "shap_values = explainer.shap_values(xtrain)\n",
    "\n",
    "shap.summary_plot(shap_values, xtrain)"
   ]
  },
  {
   "cell_type": "code",
   "execution_count": null,
   "metadata": {},
   "outputs": [],
   "source": [
    "shap.summary_plot(shap_values, xtrain, plot_type = 'bar')"
   ]
  },
  {
   "cell_type": "code",
   "execution_count": null,
   "metadata": {},
   "outputs": [],
   "source": [
    "explainer = shap.KernelExplainer(svc.predict, k_sample)\n",
    "shap_values = explainer.shap_values(xtrain)\n",
    "\n",
    "shap.summary_plot(shap_values, xtrain)"
   ]
  },
  {
   "cell_type": "code",
   "execution_count": null,
   "metadata": {},
   "outputs": [],
   "source": [
    "shap.summary_plot(shap_values, xtrain, plot_type = 'bar')"
   ]
  },
  {
   "cell_type": "code",
   "execution_count": null,
   "metadata": {},
   "outputs": [],
   "source": [
    "explainer = shap.TreeExplainer(rf)\n",
    "shap_values = explainer.shap_values(xtrain)\n",
    "\n",
    "shap.summary_plot(shap_values[1], xtrain)"
   ]
  },
  {
   "cell_type": "code",
   "execution_count": null,
   "metadata": {},
   "outputs": [],
   "source": [
    "shap.summary_plot(shap_values[1], xtrain, plot_type = 'bar')"
   ]
  },
  {
   "cell_type": "code",
   "execution_count": null,
   "metadata": {},
   "outputs": [],
   "source": [
    "explainer = shap.TreeExplainer(gbc)\n",
    "shap_values = explainer.shap_values(xtrain)\n",
    "\n",
    "shap.summary_plot(shap_values, xtrain)"
   ]
  },
  {
   "cell_type": "code",
   "execution_count": null,
   "metadata": {},
   "outputs": [],
   "source": [
    "shap.summary_plot(shap_values, xtrain, plot_type = 'bar')"
   ]
  },
  {
   "cell_type": "markdown",
   "metadata": {},
   "source": [
    "# Prediction"
   ]
  },
  {
   "cell_type": "code",
   "execution_count": null,
   "metadata": {},
   "outputs": [],
   "source": [
    "df_current_names = df_current.iloc[:, 0]\n",
    "df_current_predict = df_current[features]\n",
    "\n",
    "df_current.head()"
   ]
  },
  {
   "cell_type": "code",
   "execution_count": null,
   "metadata": {},
   "outputs": [],
   "source": [
    "def make_pred(model, sort):\n",
    "\n",
    "    proba = model.predict_proba(df_current_predict)\n",
    "    pos_prob = proba[:, 1]\n",
    "    \n",
    "    combined_list = [[i, j] for i, j in zip(df_current_names, pos_prob)]\n",
    "    if sort:\n",
    "        combined_list = sorted(combined_list, key = itemgetter(1), reverse = True)\n",
    "        for i in combined_list:\n",
    "            print(i)\n",
    "    else:\n",
    "        None\n",
    "        \n",
    "    return combined_list"
   ]
  },
  {
   "cell_type": "code",
   "execution_count": null,
   "metadata": {},
   "outputs": [],
   "source": [
    "def pred_graph(pred_list, model_name, text_lim):\n",
    "    \n",
    "    fig, ax = plt.subplots()\n",
    "    \n",
    "    y = [i[1] for i in pred_list]\n",
    "    labels = [i[0] for i in pred_list]\n",
    "    \n",
    "    x = np.arange(len(y))\n",
    "    \n",
    "    ax.bar(x, y, color = 'C2', edgecolor = 'white', linewidth = 2.5)\n",
    "    \n",
    "    ax.xaxis.set_visible(False)\n",
    "    \n",
    "    rects = ax.patches\n",
    "    for rect, label in zip(rects, labels):\n",
    "        if(rect.get_x() > text_lim):\n",
    "            ax.text(rect.get_x() + rect.get_width() / 1.75, rect.get_height() + .02, label,\n",
    "            ha='center', va='bottom', rotation = 'vertical', color = 'black')\n",
    "        else:\n",
    "            ax.text(rect.get_x() + rect.get_width() / 1.75, .02, label,\n",
    "            ha='center', va='bottom', rotation = 'vertical', color = 'black')\n",
    "\n",
    "    ax.set_ylabel('All-Star probability')\n",
    "    vals = ax.get_yticks()\n",
    "    ax.set_yticklabels(['{:,.0%}'.format(x) for x in vals])\n",
    "    \n",
    "    fig.suptitle(\"%s predictions\" % model_name.upper(), size = 18, weight = 'bold', y = .95)\n",
    "    \n",
    "    fig.text(x = -0.05, y = 0.01,\n",
    "        s = '______________________________________________________________',\n",
    "        fontsize = 14, color = 'grey', horizontalalignment='left')\n",
    "\n",
    "    fig.text(x = -0.05, y = -.05,\n",
    "        s = 'https://dribbleanalytics.blog                     ',\n",
    "        fontsize = 14, fontname = 'Rockwell', color = 'grey', horizontalalignment='left')\n",
    "    \n",
    "    fig.savefig('%s-predict.png' % model_name, dpi = 400, bbox_inches = 'tight')"
   ]
  },
  {
   "cell_type": "code",
   "execution_count": null,
   "metadata": {},
   "outputs": [],
   "source": [
    "log_prob = make_pred(log, True)"
   ]
  },
  {
   "cell_type": "code",
   "execution_count": null,
   "metadata": {},
   "outputs": [],
   "source": [
    "pred_graph(log_prob, 'log', 2)"
   ]
  },
  {
   "cell_type": "code",
   "execution_count": null,
   "metadata": {},
   "outputs": [],
   "source": [
    "svc_prob = make_pred(svc, True)"
   ]
  },
  {
   "cell_type": "code",
   "execution_count": null,
   "metadata": {},
   "outputs": [],
   "source": [
    "pred_graph(svc_prob, 'svc', 2)"
   ]
  },
  {
   "cell_type": "code",
   "execution_count": null,
   "metadata": {},
   "outputs": [],
   "source": [
    "rf_prob = make_pred(rf, True)"
   ]
  },
  {
   "cell_type": "code",
   "execution_count": null,
   "metadata": {},
   "outputs": [],
   "source": [
    "pred_graph(rf_prob, 'rf', 5)"
   ]
  },
  {
   "cell_type": "code",
   "execution_count": null,
   "metadata": {},
   "outputs": [],
   "source": [
    "gbc_prob = make_pred(gbc, True)"
   ]
  },
  {
   "cell_type": "code",
   "execution_count": null,
   "metadata": {},
   "outputs": [],
   "source": [
    "pred_graph(gbc_prob, 'gbc', 3)"
   ]
  },
  {
   "cell_type": "code",
   "execution_count": null,
   "metadata": {},
   "outputs": [],
   "source": [
    "avg_prob = []\n",
    "\n",
    "for i, j, k, l in zip(make_pred(log, False), make_pred(svc, False), make_pred(rf, False), make_pred(gbc, False)):\n",
    "    avg_prob.append((i[1] + j[1] + k[1] + l[1]) / 4)\n",
    "    \n",
    "avg_list = [[i, j] for i, j in zip(df_current_names, avg_prob)]\n",
    "avg_list = sorted(avg_list, key = itemgetter(1), reverse = True)\n",
    "\n",
    "for i in avg_list:\n",
    "    print(i)"
   ]
  },
  {
   "cell_type": "code",
   "execution_count": null,
   "metadata": {},
   "outputs": [],
   "source": [
    "pred_graph(avg_list, 'avg', 4)"
   ]
  },
  {
   "cell_type": "code",
   "execution_count": null,
   "metadata": {},
   "outputs": [],
   "source": [
    "exp_star = []\n",
    "\n",
    "for i in range(1, 11):\n",
    "    exp_star.append(df_historical['All-Star'].loc[df_historical['Pick'] == i].sum() / \n",
    "                    df_historical['All-Star'].loc[df_historical['Pick'] == i].count())"
   ]
  },
  {
   "cell_type": "code",
   "execution_count": null,
   "metadata": {},
   "outputs": [],
   "source": [
    "diff_star = []\n",
    "\n",
    "for i, j, k, l in zip(make_pred(log, False), make_pred(svc, False), make_pred(rf, False), make_pred(svc, False)):\n",
    "    avg_prob.append((i[1] + j[1] + k[1] + l[1]) / 4)\n",
    "    \n",
    "avg_list = [[i, j] for i, j in zip(df_current_names, avg_prob)]\n",
    "\n",
    "for i, j in zip(avg_list, exp_star):\n",
    "    diff_star.append(i[1] - j)\n",
    "    \n",
    "diff_star = [[i, j] for i, j in zip(df_current_names, diff_star)]"
   ]
  },
  {
   "cell_type": "code",
   "execution_count": null,
   "metadata": {},
   "outputs": [],
   "source": [
    "fig, ax = plt.subplots()\n",
    "\n",
    "y = [i[1] for i in diff_star]\n",
    "labels = [i[0] for i in diff_star]\n",
    "\n",
    "x = np.arange(len(y))\n",
    "\n",
    "colors = []\n",
    "\n",
    "for i in y:\n",
    "    if(i < 0):\n",
    "        colors.append('C1')\n",
    "    else:\n",
    "        colors.append('C3')\n",
    "\n",
    "ax.barh(x, y, color = colors, edgecolor = 'white', linewidth = 2.5)\n",
    "\n",
    "ax.yaxis.set_visible(False)\n",
    "\n",
    "rects = ax.patches\n",
    "for rect, label in zip(rects, labels):\n",
    "    if(rect.get_width() < 0):\n",
    "        ax.text(rect.get_x() + .01, rect.get_y() + .75, label,\n",
    "        ha='left', va='bottom', rotation = 'horizontal', color = 'black')\n",
    "    else:\n",
    "        ax.text(rect.get_x() - .01, rect.get_y() + .75, label,\n",
    "        ha='right', va='bottom', rotation = 'horizontal', color = 'black')\n",
    "            \n",
    "vals = ax.get_xticks()\n",
    "ax.set_xticklabels(['{:,.0%}'.format(x) for x in vals])\n",
    "\n",
    "ax.invert_yaxis()\n",
    "ax.grid(alpha = .5)\n",
    "\n",
    "fig.suptitle(\"All-Star probability above\\nAll-Star percent at player pick #\", size = 18, weight = 'bold', y = 1.03)\n",
    "\n",
    "fig.text(x = .05, y = -0.01,\n",
    "    s = '_______________________________________________________',\n",
    "    fontsize = 14, color = 'grey', horizontalalignment='left')\n",
    "\n",
    "fig.text(x = .05, y = -.07,\n",
    "    s = 'https://dribbleanalytics.blog                     ',\n",
    "    fontsize = 14, fontname = 'Rockwell', color = 'grey', horizontalalignment='left')\n",
    "\n",
    "fig.savefig('prob-above-average.png', dpi = 400, bbox_inches = 'tight')"
   ]
  },
  {
   "cell_type": "code",
   "execution_count": null,
   "metadata": {},
   "outputs": [],
   "source": [
    "diff_star = sorted(diff_star, key = itemgetter(1), reverse = True)\n",
    "\n",
    "fig, ax = plt.subplots()\n",
    "\n",
    "y = [i[1] for i in diff_star]\n",
    "labels = [i[0] for i in diff_star]\n",
    "\n",
    "x = np.arange(len(y))\n",
    "\n",
    "colors = []\n",
    "\n",
    "for i in y:\n",
    "    if(i < 0):\n",
    "        colors.append('C1')\n",
    "    else:\n",
    "        colors.append('C3')\n",
    "\n",
    "ax.barh(x, y, color = colors, edgecolor = 'white', linewidth = 2.5)\n",
    "\n",
    "ax.yaxis.set_visible(False)\n",
    "\n",
    "rects = ax.patches\n",
    "for rect, label in zip(rects, labels):\n",
    "    if(rect.get_width() < 0):\n",
    "        ax.text(rect.get_x() + .01, rect.get_y() + .75, label,\n",
    "        ha='left', va='bottom', rotation = 'horizontal', color = 'black')\n",
    "    else:\n",
    "        ax.text(rect.get_x() - .01, rect.get_y() + .75, label,\n",
    "        ha='right', va='bottom', rotation = 'horizontal', color = 'black')\n",
    "            \n",
    "vals = ax.get_xticks()\n",
    "ax.set_xticklabels(['{:,.0%}'.format(x) for x in vals])\n",
    "\n",
    "ax.invert_yaxis()\n",
    "ax.grid(alpha = .5)\n",
    "\n",
    "fig.suptitle(\"All-Star probability above\\nAll-Star percent at player pick #\", size = 18, weight = 'bold', y = 1.03)\n",
    "\n",
    "fig.text(x = .05, y = -0.01,\n",
    "    s = '_______________________________________________________',\n",
    "    fontsize = 14, color = 'grey', horizontalalignment='left')\n",
    "\n",
    "fig.text(x = .05, y = -.07,\n",
    "    s = 'https://dribbleanalytics.blog                     ',\n",
    "    fontsize = 14, fontname = 'Rockwell', color = 'grey', horizontalalignment='left')\n",
    "\n",
    "fig.savefig('prob-above-average-sorted.png', dpi = 400, bbox_inches = 'tight')"
   ]
  }
 ],
 "metadata": {
  "kernelspec": {
   "display_name": "Python 3",
   "language": "python",
   "name": "python3"
  },
  "language_info": {
   "codemirror_mode": {
    "name": "ipython",
    "version": 3
   },
   "file_extension": ".py",
   "mimetype": "text/x-python",
   "name": "python",
   "nbconvert_exporter": "python",
   "pygments_lexer": "ipython3",
   "version": "3.6.4"
  }
 },
 "nbformat": 4,
 "nbformat_minor": 2
}
