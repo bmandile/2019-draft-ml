{
 "cells": [
  {
   "cell_type": "code",
   "execution_count": null,
   "metadata": {},
   "outputs": [],
   "source": [
    "# import necessary packages\n",
    "\n",
    "import pandas as pd\n",
    "import numpy as np\n",
    "import matplotlib.pyplot as plt\n",
    "from sklearn.model_selection import train_test_split\n",
    "from sklearn.svm import SVR\n",
    "from sklearn.ensemble import RandomForestRegressor\n",
    "from sklearn import neighbors\n",
    "from sklearn.metrics import mean_squared_error, r2_score\n",
    "from sklearn.model_selection import KFold\n",
    "from sklearn.model_selection import cross_val_score\n",
    "import xgboost\n",
    "import shap\n",
    "import scipy.stats as stats\n",
    "from scipy.stats import shapiro\n",
    "from statsmodels.stats import stattools as stools"
   ]
  },
  {
   "cell_type": "code",
   "execution_count": null,
   "metadata": {},
   "outputs": [],
   "source": [
    "# import data sets\n",
    "\n",
    "historical = pd.read_csv('historical-draft-stats.csv')\n",
    "current = pd.read_csv('draft-predict.csv')"
   ]
  },
  {
   "cell_type": "code",
   "execution_count": null,
   "metadata": {},
   "outputs": [],
   "source": [
    "# establish features and output. slice data set to drop rows where any feature is empty\n",
    "\n",
    "features = ['Pick', 'eFG%', 'FT%', 'PTS', 'SOS', '3PAr', 'FTr']\n",
    "output = ['NBA-PPG']\n",
    "\n",
    "historical = historical.dropna(subset=features)\n",
    "\n",
    "train, test = train_test_split(historical, test_size = 0.25, random_state = 36)\n",
    "\n",
    "xtrain = train[features]\n",
    "ytrain = train[output]\n",
    "\n",
    "xtest = test[features]\n",
    "ytest = test[output]"
   ]
  },
  {
   "cell_type": "code",
   "execution_count": null,
   "metadata": {},
   "outputs": [],
   "source": [
    "# function to train and evaluate models\n",
    "\n",
    "def scores(model):\n",
    "    \n",
    "    model.fit(xtrain, ytrain.values.ravel())\n",
    "    y_pred = model.predict(xtest)\n",
    "    \n",
    "    print(\"Mean squared error: %.3f\" % mean_squared_error(ytest, y_pred))\n",
    "    print('R2 score: %.3f' % r2_score(ytest, y_pred))\n",
    "\n",
    "    cv_score = cross_val_score(model, xtest, ytest.values.ravel(), cv = 3, scoring = 'r2')\n",
    "    print(\"R2 cross validation score: %0.2f (+/- %0.2f)\" % (cv_score.mean(), cv_score.std() * 2))\n",
    "    \n",
    "    y_results = []\n",
    "    \n",
    "    for i in y_pred:\n",
    "        y_results.append(i)\n",
    "        \n",
    "    return(y_results)"
   ]
  },
  {
   "cell_type": "code",
   "execution_count": null,
   "metadata": {},
   "outputs": [],
   "source": [
    "svr = SVR(kernel='rbf', gamma=1e-4, C=100, epsilon = .01)\n",
    "\n",
    "y_svr = scores(svr)"
   ]
  },
  {
   "cell_type": "code",
   "execution_count": null,
   "metadata": {},
   "outputs": [],
   "source": [
    "rf = RandomForestRegressor(random_state = 0, n_estimators = 200, criterion = 'mse')\n",
    "\n",
    "y_rf = scores(rf)"
   ]
  },
  {
   "cell_type": "code",
   "execution_count": null,
   "metadata": {},
   "outputs": [],
   "source": [
    "knn = neighbors.KNeighborsRegressor(n_neighbors = 25, weights = 'uniform')\n",
    "\n",
    "y_knn = scores(knn)"
   ]
  },
  {
   "cell_type": "code",
   "execution_count": null,
   "metadata": {},
   "outputs": [],
   "source": [
    "xgb = xgboost.XGBRegressor(objective = \"reg:squarederror\", random_state = 0, n_estimators = 50)\n",
    "\n",
    "y_xgb = scores(xgb)"
   ]
  },
  {
   "cell_type": "markdown",
   "metadata": {},
   "source": [
    "# Standardized residuals"
   ]
  },
  {
   "cell_type": "code",
   "execution_count": null,
   "metadata": {},
   "outputs": [],
   "source": [
    "# function to convert model y_pred values into standardized residuals\n",
    "\n",
    "def residuals(x):\n",
    "    \n",
    "    resid = [i for i in (ytest['NBA-PPG'] - x)]\n",
    "    ssr = [i ** 2 for i in resid]\n",
    "    \n",
    "    ssr_sum = 0\n",
    "    for i in ssr:\n",
    "        ssr_sum += i\n",
    "        \n",
    "    stand_resid = []\n",
    "    for i in resid:\n",
    "        stand_resid.append(i / ((ssr_sum / (ytest.shape[0] - 2)) ** (1/2)))\n",
    "    \n",
    "    resid_list = []\n",
    "    \n",
    "    for i in stand_resid:\n",
    "        resid_list.append(i)\n",
    "        \n",
    "    return resid_list"
   ]
  },
  {
   "cell_type": "code",
   "execution_count": null,
   "metadata": {},
   "outputs": [],
   "source": [
    "svr_resid = residuals(y_svr)\n",
    "rf_resid = residuals(y_rf)\n",
    "knn_resid = residuals(y_knn)\n",
    "xgb_resid = residuals(y_xgb)"
   ]
  },
  {
   "cell_type": "code",
   "execution_count": null,
   "metadata": {},
   "outputs": [],
   "source": [
    "# function to find outliers in standardized residuals (points more than 2 stdev away from mean)\n",
    "\n",
    "def outliers(x):\n",
    "    \n",
    "    np_list = np.array(x)\n",
    "    stdev = np.std(np_list)\n",
    "    mean = np.mean(np_list)\n",
    "\n",
    "    outliers = 0\n",
    "    for i in x:\n",
    "        if i < mean - 2 * stdev:\n",
    "            outliers += 1\n",
    "        elif i > mean + 2 * stdev:\n",
    "            outliers += 1\n",
    "\n",
    "    outlier_percent = 1 - outliers / ytest.shape[0]\n",
    "    outlier_string = \"{:.3%}\".format(outlier_percent)\n",
    "    \n",
    "    return outlier_string"
   ]
  },
  {
   "cell_type": "code",
   "execution_count": null,
   "metadata": {},
   "outputs": [],
   "source": [
    "# plot standardized residuals\n",
    "\n",
    "plt.style.use('fivethirtyeight')\n",
    "\n",
    "resid_fig, ((ax1, ax2), (ax3, ax4)) = plt.subplots(2, 2, sharey = 'row')\n",
    "\n",
    "x = np.arange(ytest.shape[0])\n",
    "ax1.xaxis.set_visible(False)\n",
    "ax2.xaxis.set_visible(False)\n",
    "ax3.xaxis.set_visible(False)\n",
    "ax4.xaxis.set_visible(False)\n",
    "\n",
    "ax1.scatter(x, svr_resid)\n",
    "ax1.axhline(y = np.mean(svr_resid), label = \"Average\", color = 'purple')\n",
    "ax1.axhline(y = np.mean(svr_resid) - 2 * np.std(svr_resid), color = 'orange')\n",
    "ax1.axhline(y = np.mean(svr_resid) + 2 * np.std(svr_resid), label = \"2 stdev from mean\", color = 'orange')\n",
    "ax1.set_title(\"SVM: %s\" % outliers(svr_resid), size = 18, x = .485, ha = 'center')\n",
    "\n",
    "ax2.scatter(x, rf_resid)\n",
    "ax2.axhline(y = np.mean(rf_resid), color = 'purple')\n",
    "ax2.axhline(y = np.mean(rf_resid) - 2 * np.std(rf_resid), color = 'orange')\n",
    "ax2.axhline(y = np.mean(rf_resid) + 2 * np.std(rf_resid), color = 'orange')\n",
    "ax2.set_title(\"RF: %s\" % outliers(rf_resid), size = 18, x = .485, ha = 'center')\n",
    "\n",
    "ax3.scatter(x, knn_resid)\n",
    "ax3.axhline(y = np.mean(knn_resid), color = 'purple')\n",
    "ax3.axhline(y = np.mean(knn_resid) - 2 * np.std(knn_resid), color = 'orange')\n",
    "ax3.axhline(y = np.mean(knn_resid) + 2 * np.std(knn_resid), color = 'orange')\n",
    "ax3.set_title(\"KNN: %s\" % outliers(knn_resid), size = 18, x = .485, ha = 'center')\n",
    "\n",
    "ax4.scatter(x, xgb_resid)\n",
    "ax4.axhline(y = np.mean(xgb_resid), color = 'purple')\n",
    "ax4.axhline(y = np.mean(xgb_resid) - 2 * np.std(xgb_resid), color = 'orange')\n",
    "ax4.axhline(y = np.mean(xgb_resid) + 2 * np.std(xgb_resid), color = 'orange')\n",
    "ax4.set_title(\"XGB: %s\" % outliers(xgb_resid), size = 18, x = .485, ha = 'center')\n",
    "\n",
    "resid_fig.legend(loc = (.22, .855), ncol=2, prop={'size': 12, \"family\": \"Rockwell\"})\n",
    "\n",
    "resid_fig.suptitle(\"Standardized Residuals\", weight = 'bold', size = 18, y = 1.12)\n",
    "\n",
    "ax1.yaxis.set_ticks([-2.5, 0, 2.5])\n",
    "ax3.yaxis.set_ticks([-2.5, 0, 2.5])\n",
    "\n",
    "resid_fig.text(x = 0, y = 0,\n",
    "    s = '________________________________________________________________',\n",
    "    fontsize = 14, color = 'grey', horizontalalignment='left')\n",
    "\n",
    "resid_fig.text(x = 0, y = -.06,\n",
    "    s = 'https://dribbleanalytics.blog                     ',\n",
    "    fontsize = 14, fontname = 'Rockwell', color = 'grey', horizontalalignment='left')\n",
    "\n",
    "resid_fig.savefig('resid-fig.png', dpi = 400, bbox_inches = 'tight')"
   ]
  },
  {
   "cell_type": "markdown",
   "metadata": {},
   "source": [
    "# Q-Q plot"
   ]
  },
  {
   "cell_type": "code",
   "execution_count": null,
   "metadata": {},
   "outputs": [],
   "source": [
    "plt.rcParams.update(plt.rcParamsDefault)\n",
    "plt.style.use('fivethirtyeight')\n",
    "\n",
    "qqplot = plt.figure()\n",
    "\n",
    "ax1 = qqplot.add_subplot(221)\n",
    "stats.probplot(svr_resid, dist=\"norm\", plot=plt)\n",
    "ax1.set_xlabel(\"\")\n",
    "ax1.set_xticklabels([])\n",
    "ax1.set_ylabel(\"\")\n",
    "ax1.set_title(\"SVM\")\n",
    "\n",
    "ax2 = qqplot.add_subplot(222)\n",
    "stats.probplot(rf_resid, dist=\"norm\", plot=plt)\n",
    "ax2.set_xlabel(\"\")\n",
    "ax2.set_xticklabels([])\n",
    "ax2.set_ylabel(\"\")\n",
    "ax2.set_title(\"RF\")\n",
    "ax2.set_xticklabels([])\n",
    "ax2.set_yticklabels([])\n",
    "\n",
    "ax3 = qqplot.add_subplot(223)\n",
    "stats.probplot(knn_resid, dist=\"norm\", plot=plt)\n",
    "ax3.set_xlabel(\"\")\n",
    "ax3.set_ylabel(\"\")\n",
    "ax3.set_title(\"KNN\")\n",
    "\n",
    "ax4 = qqplot.add_subplot(224)\n",
    "stats.probplot(xgb_resid, dist = \"norm\", plot = plt)\n",
    "ax4.set_xlabel(\"\")\n",
    "ax4.set_ylabel(\"\")\n",
    "ax4.set_title(\"XGB\")\n",
    "ax4.set_yticklabels([])\n",
    "\n",
    "qqplot.text(0.5, -0.02, 'Theoretical Quantiles', ha='center', va='center', size = 18)\n",
    "qqplot.text(0.01, 0.5, 'Ordered Values', ha='center', va='center', rotation='vertical', size = 18)\n",
    "\n",
    "qqplot.text(x = 0, y = -0.05,\n",
    "    s = '_______________________________________________________________',\n",
    "    fontsize = 14, color = 'grey', horizontalalignment='left')\n",
    "\n",
    "qqplot.text(x = 0, y = -.1,\n",
    "    s = 'https://dribbleanalytics.blog                     ',\n",
    "    fontsize = 14, fontname = 'Rockwell', color = 'grey', horizontalalignment='left')\n",
    "\n",
    "qqplot.savefig('qqplot.png', dpi = 400, bbox_inches = 'tight')"
   ]
  },
  {
   "cell_type": "markdown",
   "metadata": {},
   "source": [
    "# Shapiro-Wilk test"
   ]
  },
  {
   "cell_type": "code",
   "execution_count": null,
   "metadata": {},
   "outputs": [],
   "source": [
    "print(shapiro(svr_resid))\n",
    "print(shapiro(rf_resid))\n",
    "print(shapiro(knn_resid))\n",
    "print(shapiro(xgb_resid))"
   ]
  },
  {
   "cell_type": "markdown",
   "metadata": {},
   "source": [
    "# Predict"
   ]
  },
  {
   "cell_type": "code",
   "execution_count": null,
   "metadata": {},
   "outputs": [],
   "source": [
    "# function to take models and predict current draft's PPG\n",
    "\n",
    "curr_pred = current[features]\n",
    "\n",
    "def predict(model):\n",
    "    \n",
    "    y_pred = model.predict(curr_pred)\n",
    "    \n",
    "    for i, j in zip(current['Player'], y_pred):\n",
    "        print(i, j)\n",
    "        \n",
    "    return y_pred"
   ]
  },
  {
   "cell_type": "code",
   "execution_count": null,
   "metadata": {},
   "outputs": [],
   "source": [
    "svr_pred = predict(svr)"
   ]
  },
  {
   "cell_type": "code",
   "execution_count": null,
   "metadata": {},
   "outputs": [],
   "source": [
    "# function to make bar graph from predictions\n",
    "\n",
    "def make_plot(pred_list, player_list, height, model_name, x_pos, file_name):\n",
    "    \n",
    "    plt.style.use('fivethirtyeight')\n",
    "    \n",
    "    fig, ax = plt.subplots()\n",
    "    \n",
    "    x = range(len(pred_list))\n",
    "    \n",
    "    ax.bar(x, pred_list, width = .7, edgecolor = 'white', color = 'skyblue', linewidth = 4, label = 'Predicted')\n",
    "\n",
    "    labels = player_list\n",
    "\n",
    "    rects = ax.patches\n",
    "    for rect, label in zip(rects, labels):\n",
    "        height = height\n",
    "        ax.text(rect.get_x() + rect.get_width() / 1.75, height, label,\n",
    "        ha='center', va='bottom', rotation = 'vertical', color = 'black')\n",
    "\n",
    "    if(model_name == 'Average'):\n",
    "        fig.suptitle(\"%s predicted rookie year PPG\" % model_name, weight = 'bold', size = 18)\n",
    "    else:\n",
    "        fig.suptitle(\"%s predicted rookie year PPG\" % model_name.upper(), weight = 'bold', size = 18)\n",
    "    ax.xaxis.set_visible(False)\n",
    "    ax.set_ylabel(\"PPG\")\n",
    "\n",
    "    fig.text(x = x_pos, y = 0.03,\n",
    "        s = '______________________________________________________________',\n",
    "        fontsize = 14, color = 'grey', horizontalalignment='left')\n",
    "\n",
    "    fig.text(x = x_pos, y = -.03,\n",
    "        s = 'https://dribbleanalytics.blog                     ',\n",
    "        fontsize = 14, fontname = 'Rockwell', color = 'grey', horizontalalignment='left')\n",
    "\n",
    "    fig.savefig('%s.png' % file_name, dpi = 400, bbox_inches = 'tight')"
   ]
  },
  {
   "cell_type": "code",
   "execution_count": null,
   "metadata": {},
   "outputs": [],
   "source": [
    "make_plot(svr_pred[0:9], current['Player'][0:9], .5, 'svm', -0.05, 'svr_1')"
   ]
  },
  {
   "cell_type": "code",
   "execution_count": null,
   "metadata": {},
   "outputs": [],
   "source": [
    "make_plot(svr_pred[9:18], current['Player'][9:18], .2, 'svm', 0, 'svr_2')"
   ]
  },
  {
   "cell_type": "code",
   "execution_count": null,
   "metadata": {
    "scrolled": true
   },
   "outputs": [],
   "source": [
    "make_plot(svr_pred[18:], current['Player'][18:], .2, 'svm', 0, 'svr_3')"
   ]
  },
  {
   "cell_type": "code",
   "execution_count": null,
   "metadata": {},
   "outputs": [],
   "source": [
    "rf_pred = predict(rf)"
   ]
  },
  {
   "cell_type": "code",
   "execution_count": null,
   "metadata": {},
   "outputs": [],
   "source": [
    "make_plot(rf_pred[0:9], current['Player'][0:9], .5, 'rf', -0.05, 'rf_1')"
   ]
  },
  {
   "cell_type": "code",
   "execution_count": null,
   "metadata": {},
   "outputs": [],
   "source": [
    "make_plot(rf_pred[9:18], current['Player'][9:18], .2, 'rf', 0, 'rf_2')"
   ]
  },
  {
   "cell_type": "code",
   "execution_count": null,
   "metadata": {
    "scrolled": true
   },
   "outputs": [],
   "source": [
    "make_plot(rf_pred[18:], current['Player'][18:], .2, 'rf', 0, 'rf_3')"
   ]
  },
  {
   "cell_type": "code",
   "execution_count": null,
   "metadata": {},
   "outputs": [],
   "source": [
    "knn_pred = predict(knn)"
   ]
  },
  {
   "cell_type": "code",
   "execution_count": null,
   "metadata": {},
   "outputs": [],
   "source": [
    "make_plot(knn_pred[0:9], current['Player'][0:9], .5, 'knn', -0.05, 'knn_1')"
   ]
  },
  {
   "cell_type": "code",
   "execution_count": null,
   "metadata": {},
   "outputs": [],
   "source": [
    "make_plot(knn_pred[9:18], current['Player'][9:18], .2, 'knn', 0, 'knn_2')"
   ]
  },
  {
   "cell_type": "code",
   "execution_count": null,
   "metadata": {},
   "outputs": [],
   "source": [
    "make_plot(knn_pred[18:], current['Player'][18:], .2, 'knn', 0, 'knn_3')"
   ]
  },
  {
   "cell_type": "code",
   "execution_count": null,
   "metadata": {},
   "outputs": [],
   "source": [
    "xgb_pred = predict(xgb)"
   ]
  },
  {
   "cell_type": "code",
   "execution_count": null,
   "metadata": {},
   "outputs": [],
   "source": [
    "make_plot(xgb_pred[0:9], current['Player'][0:9], .5, 'xgb', -0.05, 'xgb_1')"
   ]
  },
  {
   "cell_type": "code",
   "execution_count": null,
   "metadata": {},
   "outputs": [],
   "source": [
    "make_plot(xgb_pred[9:18], current['Player'][9:18], .2, 'xgb', 0, 'xgb_2')"
   ]
  },
  {
   "cell_type": "code",
   "execution_count": null,
   "metadata": {},
   "outputs": [],
   "source": [
    "make_plot(xgb_pred[18:], current['Player'][18:], .2, 'xgb', 0, 'xgb_3')"
   ]
  },
  {
   "cell_type": "code",
   "execution_count": null,
   "metadata": {},
   "outputs": [],
   "source": [
    "avg_pred = [(g + h + i + j) / 4 for g, h, i, j in zip(svr_pred, rf_pred, knn_pred, xgb_pred)]\n",
    "\n",
    "for i, j in zip(current['Player'], avg_pred):\n",
    "    print(i, j)"
   ]
  },
  {
   "cell_type": "code",
   "execution_count": null,
   "metadata": {},
   "outputs": [],
   "source": [
    "make_plot(avg_pred[0:9], current['Player'][0:9], .5, 'Average', -0.05, 'avg_1')"
   ]
  },
  {
   "cell_type": "code",
   "execution_count": null,
   "metadata": {},
   "outputs": [],
   "source": [
    "make_plot(avg_pred[9:18], current['Player'][9:18], .2, 'Average', 0, 'avg_2')"
   ]
  },
  {
   "cell_type": "code",
   "execution_count": null,
   "metadata": {},
   "outputs": [],
   "source": [
    "make_plot(avg_pred[18:], current['Player'][18:], .2, 'Average', 0, 'avg_3')"
   ]
  },
  {
   "cell_type": "markdown",
   "metadata": {},
   "source": [
    "# SHAP values"
   ]
  },
  {
   "cell_type": "code",
   "execution_count": null,
   "metadata": {},
   "outputs": [],
   "source": [
    "# prepare shap plots\n",
    "\n",
    "shap.initjs()\n",
    "plt.rcParams.update(plt.rcParamsDefault)\n",
    "plt.style.use('fivethirtyeight')"
   ]
  },
  {
   "cell_type": "code",
   "execution_count": null,
   "metadata": {},
   "outputs": [],
   "source": [
    "svr_k = shap.kmeans(xtrain, 5)\n",
    "# use shap.kmeans to allow KernelExplainer to run on fewer data points - recommended for speed\n",
    "\n",
    "explainer = shap.KernelExplainer(svr.predict, svr_k)\n",
    "shap_values = explainer.shap_values(xtrain)\n",
    "\n",
    "shap.summary_plot(shap_values, xtrain)"
   ]
  },
  {
   "cell_type": "code",
   "execution_count": null,
   "metadata": {},
   "outputs": [],
   "source": [
    "explainer = shap.TreeExplainer(rf)\n",
    "shap_values = explainer.shap_values(xtrain)\n",
    "\n",
    "shap.summary_plot(shap_values, xtrain)"
   ]
  },
  {
   "cell_type": "code",
   "execution_count": null,
   "metadata": {},
   "outputs": [],
   "source": [
    "knn_k = shap.kmeans(xtrain, 5)\n",
    "\n",
    "explainer = shap.KernelExplainer(knn.predict, knn_k)\n",
    "shap_values = explainer.shap_values(xtrain)\n",
    "\n",
    "shap.summary_plot(shap_values, xtrain)"
   ]
  },
  {
   "cell_type": "code",
   "execution_count": null,
   "metadata": {},
   "outputs": [],
   "source": [
    "explainer = shap.TreeExplainer(xgb)\n",
    "shap_values = explainer.shap_values(xtrain)\n",
    "\n",
    "shap.summary_plot(shap_values, xtrain)"
   ]
  }
 ],
 "metadata": {
  "kernelspec": {
   "display_name": "Python 3",
   "language": "python",
   "name": "python3"
  },
  "language_info": {
   "codemirror_mode": {
    "name": "ipython",
    "version": 3
   },
   "file_extension": ".py",
   "mimetype": "text/x-python",
   "name": "python",
   "nbconvert_exporter": "python",
   "pygments_lexer": "ipython3",
   "version": "3.6.4"
  }
 },
 "nbformat": 4,
 "nbformat_minor": 2
}
